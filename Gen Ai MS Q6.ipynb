{
 "cells": [
  {
   "cell_type": "code",
   "execution_count": 6,
   "id": "cc759c1e-af72-44be-8866-7ddbde7c4bb1",
   "metadata": {},
   "outputs": [
    {
     "name": "stdout",
     "output_type": "stream",
     "text": [
      "   customer_name                                        review_text\n",
      "0  Anjali Sharma  Delivery was on time and the food was hot, but...\n",
      "1    Karan Gupta  Food quality was good, delivery was a bit slow...\n",
      "2     Priya Nair  Loved the spices in the curry, though the deli...\n",
      "3    Rohit Menon  The order arrived late and the packaging was f...\n",
      "4     Deepa Iyer  Fast delivery, food was fresh, and the app is ...\n"
     ]
    }
   ],
   "source": [
    "import pandas as pd\n",
    "\n",
    "# Replace 'your_file_path.xlsx' with the actual path to your Excel file.\n",
    "# If the file is in the same directory as your Jupyter notebook, you only need the file name.\n",
    "file_path = r\"C:\\Users\\ASUS\\OneDrive\\Desktop\\reviews 2.xlsx\"\n",
    "\n",
    "\n",
    "# Read the Excel file into a pandas DataFrame.\n",
    "df = pd.read_excel(file_path)\n",
    "\n",
    "# Display the first 5 rows of the DataFrame to verify the import.\n",
    "print(df.head())"
   ]
  },
  {
   "cell_type": "code",
   "execution_count": 8,
   "id": "547d0fc0-50e1-4266-bec6-437054ee54fc",
   "metadata": {},
   "outputs": [],
   "source": [
    "#!pip install NRCLex"
   ]
  },
  {
   "cell_type": "code",
   "execution_count": 10,
   "id": "b7de1caf-5836-4bed-a88f-89b3643f2b77",
   "metadata": {},
   "outputs": [
    {
     "name": "stdout",
     "output_type": "stream",
     "text": [
      "   customer_name                                        review_text  fear  \\\n",
      "0  Anjali Sharma  Delivery was on time and the food was hot, but...   0.0   \n",
      "1    Karan Gupta  Food quality was good, delivery was a bit slow...   0.0   \n",
      "2     Priya Nair  Loved the spices in the curry, though the deli...   0.0   \n",
      "3    Rohit Menon  The order arrived late and the packaging was f...   0.0   \n",
      "4     Deepa Iyer  Fast delivery, food was fresh, and the app is ...   0.0   \n",
      "\n",
      "      anger  anticip     trust  surprise  positive  negative  sadness  \\\n",
      "0  0.166667      0.0  0.166667  0.000000  0.333333       0.0      0.0   \n",
      "1  0.000000      0.0  0.142857  0.142857  0.285714       0.0      0.0   \n",
      "2  0.000000      0.0  0.000000  0.000000  0.333333       0.0      0.0   \n",
      "3  0.000000      0.0  0.000000  0.000000  0.000000       0.5      0.5   \n",
      "4  0.000000      0.0  0.200000  0.000000  0.400000       0.0      0.0   \n",
      "\n",
      "   disgust       joy  anticipation  \n",
      "0      0.0  0.166667      0.166667  \n",
      "1      0.0  0.142857      0.285714  \n",
      "2      0.0  0.000000      0.666667  \n",
      "3      0.0  0.000000           NaN  \n",
      "4      0.0  0.200000      0.200000  \n"
     ]
    }
   ],
   "source": [
    "import pandas as pd\n",
    "from nrclex import NRCLex\n",
    "\n",
    "# Replace 'text_column' with the actual name of your text column.\n",
    "text_column = 'review_text'\n",
    "\n",
    "# Apply NRCLex, expand the resulting dictionary of emotions into new columns, and join with the original DataFrame.\n",
    "df = df.join(df[text_column].apply(lambda text: NRCLex(text).affect_frequencies).apply(pd.Series))\n",
    "\n",
    "# Display the first 5 rows with the new emotion columns.\n",
    "print(df.head())"
   ]
  },
  {
   "cell_type": "code",
   "execution_count": null,
   "id": "57a9142d-7956-4781-9e2f-919b789aefd4",
   "metadata": {},
   "outputs": [],
   "source": []
  }
 ],
 "metadata": {
  "kernelspec": {
   "display_name": "Python [conda env:base] *",
   "language": "python",
   "name": "conda-base-py"
  },
  "language_info": {
   "codemirror_mode": {
    "name": "ipython",
    "version": 3
   },
   "file_extension": ".py",
   "mimetype": "text/x-python",
   "name": "python",
   "nbconvert_exporter": "python",
   "pygments_lexer": "ipython3",
   "version": "3.13.5"
  }
 },
 "nbformat": 4,
 "nbformat_minor": 5
}
